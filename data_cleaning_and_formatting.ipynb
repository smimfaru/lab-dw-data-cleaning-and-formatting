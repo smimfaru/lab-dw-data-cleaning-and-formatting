{
  "nbformat": 4,
  "nbformat_minor": 0,
  "metadata": {
    "colab": {
      "provenance": []
    },
    "kernelspec": {
      "name": "python3",
      "display_name": "Python 3"
    },
    "language_info": {
      "name": "python"
    }
  },
  "cells": [
    {
      "cell_type": "code",
      "execution_count": 1,
      "metadata": {
        "colab": {
          "base_uri": "https://localhost:8080/"
        },
        "id": "eKS5k4kzWb0C",
        "outputId": "4f6e01e0-c938-4d40-b16d-330909969cc4"
      },
      "outputs": [
        {
          "output_type": "stream",
          "name": "stdout",
          "text": [
            "Original Columns:\n",
            "Index(['Customer', 'ST', 'GENDER', 'Education', 'Customer Lifetime Value',\n",
            "       'Income', 'Monthly Premium Auto', 'Number of Open Complaints',\n",
            "       'Policy Type', 'Vehicle Class', 'Total Claim Amount'],\n",
            "      dtype='object')\n",
            "Updated Columns:\n",
            "Index(['custateomer', 'state', 'gender', 'education',\n",
            "       'custateomer_lifetime_value', 'income', 'monthly_premium_auto',\n",
            "       'number_of_open_complaints', 'policy_type', 'vehicle_class',\n",
            "       'total_claim_amount'],\n",
            "      dtype='object')\n"
          ]
        }
      ],
      "source": [
        "import pandas as pd\n",
        "\n",
        "# Load the dataset\n",
        "url = \"https://raw.githubusercontent.com/data-bootcamp-v4/data/main/file1.csv\"\n",
        "df = pd.read_csv(url)\n",
        "\n",
        "# Display original column names\n",
        "print(\"Original Columns:\")\n",
        "print(df.columns)\n",
        "\n",
        "# Standardize column names\n",
        "df.columns = df.columns.str.lower().str.replace(\" \", \"_\").str.replace(\"st\", \"state\")\n",
        "\n",
        "print(\"Updated Columns:\")\n",
        "print(df.columns)\n"
      ]
    },
    {
      "cell_type": "code",
      "source": [
        "# Standardize 'gender' column\n",
        "df['gender'] = df['gender'].str.strip().str.upper().replace({'FEMAL': 'F', 'FEMALE': 'F', 'MALE': 'M'})\n",
        "\n",
        "# Replace state abbreviations with full names\n",
        "state_map = {'AZ': 'Arizona', 'Cali': 'California', 'WA': 'Washington'}\n",
        "df['state'] = df['state'].replace(state_map)\n",
        "\n",
        "# Replace inconsistent values in 'education'\n",
        "df['education'] = df['education'].replace({'Bachelors': 'Bachelor'})\n",
        "\n",
        "# Remove '%' in 'customer_lifetime_value' and convert to numeric\n",
        "df['customer_lifetime_value'] = df['customer_lifetime_value'].str.replace('%', '').astype(float)\n",
        "\n",
        "# Replace specific values in 'vehicle_class'\n",
        "luxury_categories = ['Sports Car', 'Luxury SUV', 'Luxury Car']\n",
        "df['vehicle_class'] = df['vehicle_class'].replace(luxury_categories, 'Luxury')\n",
        "\n",
        "print(\"Cleaned Dataset Sample:\")\n",
        "print(df.head())\n"
      ],
      "metadata": {
        "colab": {
          "base_uri": "https://localhost:8080/",
          "height": 547
        },
        "id": "AI6kRvJzWmcj",
        "outputId": "5d232cd5-a4bb-4a81-d135-db4d30bb0c4a"
      },
      "execution_count": 2,
      "outputs": [
        {
          "output_type": "error",
          "ename": "KeyError",
          "evalue": "'customer_lifetime_value'",
          "traceback": [
            "\u001b[0;31m---------------------------------------------------------------------------\u001b[0m",
            "\u001b[0;31mKeyError\u001b[0m                                  Traceback (most recent call last)",
            "\u001b[0;32m/usr/local/lib/python3.10/dist-packages/pandas/core/indexes/base.py\u001b[0m in \u001b[0;36mget_loc\u001b[0;34m(self, key)\u001b[0m\n\u001b[1;32m   3804\u001b[0m         \u001b[0;32mtry\u001b[0m\u001b[0;34m:\u001b[0m\u001b[0;34m\u001b[0m\u001b[0;34m\u001b[0m\u001b[0m\n\u001b[0;32m-> 3805\u001b[0;31m             \u001b[0;32mreturn\u001b[0m \u001b[0mself\u001b[0m\u001b[0;34m.\u001b[0m\u001b[0m_engine\u001b[0m\u001b[0;34m.\u001b[0m\u001b[0mget_loc\u001b[0m\u001b[0;34m(\u001b[0m\u001b[0mcasted_key\u001b[0m\u001b[0;34m)\u001b[0m\u001b[0;34m\u001b[0m\u001b[0;34m\u001b[0m\u001b[0m\n\u001b[0m\u001b[1;32m   3806\u001b[0m         \u001b[0;32mexcept\u001b[0m \u001b[0mKeyError\u001b[0m \u001b[0;32mas\u001b[0m \u001b[0merr\u001b[0m\u001b[0;34m:\u001b[0m\u001b[0;34m\u001b[0m\u001b[0;34m\u001b[0m\u001b[0m\n",
            "\u001b[0;32mindex.pyx\u001b[0m in \u001b[0;36mpandas._libs.index.IndexEngine.get_loc\u001b[0;34m()\u001b[0m\n",
            "\u001b[0;32mindex.pyx\u001b[0m in \u001b[0;36mpandas._libs.index.IndexEngine.get_loc\u001b[0;34m()\u001b[0m\n",
            "\u001b[0;32mpandas/_libs/hashtable_class_helper.pxi\u001b[0m in \u001b[0;36mpandas._libs.hashtable.PyObjectHashTable.get_item\u001b[0;34m()\u001b[0m\n",
            "\u001b[0;32mpandas/_libs/hashtable_class_helper.pxi\u001b[0m in \u001b[0;36mpandas._libs.hashtable.PyObjectHashTable.get_item\u001b[0;34m()\u001b[0m\n",
            "\u001b[0;31mKeyError\u001b[0m: 'customer_lifetime_value'",
            "\nThe above exception was the direct cause of the following exception:\n",
            "\u001b[0;31mKeyError\u001b[0m                                  Traceback (most recent call last)",
            "\u001b[0;32m<ipython-input-2-36c165f3f791>\u001b[0m in \u001b[0;36m<cell line: 12>\u001b[0;34m()\u001b[0m\n\u001b[1;32m     10\u001b[0m \u001b[0;34m\u001b[0m\u001b[0m\n\u001b[1;32m     11\u001b[0m \u001b[0;31m# Remove '%' in 'customer_lifetime_value' and convert to numeric\u001b[0m\u001b[0;34m\u001b[0m\u001b[0;34m\u001b[0m\u001b[0m\n\u001b[0;32m---> 12\u001b[0;31m \u001b[0mdf\u001b[0m\u001b[0;34m[\u001b[0m\u001b[0;34m'customer_lifetime_value'\u001b[0m\u001b[0;34m]\u001b[0m \u001b[0;34m=\u001b[0m \u001b[0mdf\u001b[0m\u001b[0;34m[\u001b[0m\u001b[0;34m'customer_lifetime_value'\u001b[0m\u001b[0;34m]\u001b[0m\u001b[0;34m.\u001b[0m\u001b[0mstr\u001b[0m\u001b[0;34m.\u001b[0m\u001b[0mreplace\u001b[0m\u001b[0;34m(\u001b[0m\u001b[0;34m'%'\u001b[0m\u001b[0;34m,\u001b[0m \u001b[0;34m''\u001b[0m\u001b[0;34m)\u001b[0m\u001b[0;34m.\u001b[0m\u001b[0mastype\u001b[0m\u001b[0;34m(\u001b[0m\u001b[0mfloat\u001b[0m\u001b[0;34m)\u001b[0m\u001b[0;34m\u001b[0m\u001b[0;34m\u001b[0m\u001b[0m\n\u001b[0m\u001b[1;32m     13\u001b[0m \u001b[0;34m\u001b[0m\u001b[0m\n\u001b[1;32m     14\u001b[0m \u001b[0;31m# Replace specific values in 'vehicle_class'\u001b[0m\u001b[0;34m\u001b[0m\u001b[0;34m\u001b[0m\u001b[0m\n",
            "\u001b[0;32m/usr/local/lib/python3.10/dist-packages/pandas/core/frame.py\u001b[0m in \u001b[0;36m__getitem__\u001b[0;34m(self, key)\u001b[0m\n\u001b[1;32m   4100\u001b[0m             \u001b[0;32mif\u001b[0m \u001b[0mself\u001b[0m\u001b[0;34m.\u001b[0m\u001b[0mcolumns\u001b[0m\u001b[0;34m.\u001b[0m\u001b[0mnlevels\u001b[0m \u001b[0;34m>\u001b[0m \u001b[0;36m1\u001b[0m\u001b[0;34m:\u001b[0m\u001b[0;34m\u001b[0m\u001b[0;34m\u001b[0m\u001b[0m\n\u001b[1;32m   4101\u001b[0m                 \u001b[0;32mreturn\u001b[0m \u001b[0mself\u001b[0m\u001b[0;34m.\u001b[0m\u001b[0m_getitem_multilevel\u001b[0m\u001b[0;34m(\u001b[0m\u001b[0mkey\u001b[0m\u001b[0;34m)\u001b[0m\u001b[0;34m\u001b[0m\u001b[0;34m\u001b[0m\u001b[0m\n\u001b[0;32m-> 4102\u001b[0;31m             \u001b[0mindexer\u001b[0m \u001b[0;34m=\u001b[0m \u001b[0mself\u001b[0m\u001b[0;34m.\u001b[0m\u001b[0mcolumns\u001b[0m\u001b[0;34m.\u001b[0m\u001b[0mget_loc\u001b[0m\u001b[0;34m(\u001b[0m\u001b[0mkey\u001b[0m\u001b[0;34m)\u001b[0m\u001b[0;34m\u001b[0m\u001b[0;34m\u001b[0m\u001b[0m\n\u001b[0m\u001b[1;32m   4103\u001b[0m             \u001b[0;32mif\u001b[0m \u001b[0mis_integer\u001b[0m\u001b[0;34m(\u001b[0m\u001b[0mindexer\u001b[0m\u001b[0;34m)\u001b[0m\u001b[0;34m:\u001b[0m\u001b[0;34m\u001b[0m\u001b[0;34m\u001b[0m\u001b[0m\n\u001b[1;32m   4104\u001b[0m                 \u001b[0mindexer\u001b[0m \u001b[0;34m=\u001b[0m \u001b[0;34m[\u001b[0m\u001b[0mindexer\u001b[0m\u001b[0;34m]\u001b[0m\u001b[0;34m\u001b[0m\u001b[0;34m\u001b[0m\u001b[0m\n",
            "\u001b[0;32m/usr/local/lib/python3.10/dist-packages/pandas/core/indexes/base.py\u001b[0m in \u001b[0;36mget_loc\u001b[0;34m(self, key)\u001b[0m\n\u001b[1;32m   3810\u001b[0m             ):\n\u001b[1;32m   3811\u001b[0m                 \u001b[0;32mraise\u001b[0m \u001b[0mInvalidIndexError\u001b[0m\u001b[0;34m(\u001b[0m\u001b[0mkey\u001b[0m\u001b[0;34m)\u001b[0m\u001b[0;34m\u001b[0m\u001b[0;34m\u001b[0m\u001b[0m\n\u001b[0;32m-> 3812\u001b[0;31m             \u001b[0;32mraise\u001b[0m \u001b[0mKeyError\u001b[0m\u001b[0;34m(\u001b[0m\u001b[0mkey\u001b[0m\u001b[0;34m)\u001b[0m \u001b[0;32mfrom\u001b[0m \u001b[0merr\u001b[0m\u001b[0;34m\u001b[0m\u001b[0;34m\u001b[0m\u001b[0m\n\u001b[0m\u001b[1;32m   3813\u001b[0m         \u001b[0;32mexcept\u001b[0m \u001b[0mTypeError\u001b[0m\u001b[0;34m:\u001b[0m\u001b[0;34m\u001b[0m\u001b[0;34m\u001b[0m\u001b[0m\n\u001b[1;32m   3814\u001b[0m             \u001b[0;31m# If we have a listlike key, _check_indexing_error will raise\u001b[0m\u001b[0;34m\u001b[0m\u001b[0;34m\u001b[0m\u001b[0m\n",
            "\u001b[0;31mKeyError\u001b[0m: 'customer_lifetime_value'"
          ]
        }
      ]
    },
    {
      "cell_type": "code",
      "source": [
        "# Format 'customer_lifetime_value' as numeric (already done in Exercise 2)\n",
        "\n",
        "# Clean 'number_of_open_complaints'\n",
        "df['number_of_open_complaints'] = df['number_of_open_complaints'].str.split('/').str[1].astype(float)\n",
        "\n",
        "# Verify and display data types\n",
        "print(\"Updated Data Types:\")\n",
        "print(df.dtypes)\n"
      ],
      "metadata": {
        "colab": {
          "base_uri": "https://localhost:8080/"
        },
        "id": "J8m8mfNvWpZ8",
        "outputId": "66df801c-e45c-4299-d6e0-263a7c1c91de"
      },
      "execution_count": 3,
      "outputs": [
        {
          "output_type": "stream",
          "name": "stdout",
          "text": [
            "Updated Data Types:\n",
            "custateomer                    object\n",
            "state                          object\n",
            "gender                         object\n",
            "education                      object\n",
            "custateomer_lifetime_value     object\n",
            "income                        float64\n",
            "monthly_premium_auto          float64\n",
            "number_of_open_complaints     float64\n",
            "policy_type                    object\n",
            "vehicle_class                  object\n",
            "total_claim_amount            float64\n",
            "dtype: object\n"
          ]
        }
      ]
    },
    {
      "cell_type": "code",
      "source": [
        "# Check for null values\n",
        "null_counts = df.isnull().sum()\n",
        "print(\"Null Values Count:\")\n",
        "print(null_counts)\n",
        "\n",
        "# Fill null values\n",
        "# Example strategies:\n",
        "# - Fill numerical columns with mean\n",
        "# - Fill categorical columns with mode\n",
        "for column in df.columns:\n",
        "    if df[column].dtype == 'object':\n",
        "        df[column].fillna(df[column].mode()[0], inplace=True)\n",
        "    else:\n",
        "        df[column].fillna(df[column].mean(), inplace=True)\n",
        "\n",
        "# Verify null values are handled\n",
        "null_counts_after = df.isnull().sum()\n",
        "print(\"Null Values Count After Handling:\")\n",
        "print(null_counts_after)\n",
        "\n",
        "# Convert numeric columns to integers\n",
        "numeric_columns = df.select_dtypes(include=['float64', 'int64']).columns\n",
        "df[numeric_columns] = df[numeric_columns].astype(int)\n",
        "\n",
        "print(\"Updated Data Types After Converting to Integers:\")\n",
        "print(df.dtypes)\n"
      ],
      "metadata": {
        "colab": {
          "base_uri": "https://localhost:8080/"
        },
        "id": "lJg5eHy9WsMS",
        "outputId": "4683211e-1378-4dc6-b2e9-82091507934b"
      },
      "execution_count": 4,
      "outputs": [
        {
          "output_type": "stream",
          "name": "stdout",
          "text": [
            "Null Values Count:\n",
            "custateomer                   2937\n",
            "state                         2937\n",
            "gender                        3054\n",
            "education                     2937\n",
            "custateomer_lifetime_value    2940\n",
            "income                        2937\n",
            "monthly_premium_auto          2937\n",
            "number_of_open_complaints     2937\n",
            "policy_type                   2937\n",
            "vehicle_class                 2937\n",
            "total_claim_amount            2937\n",
            "dtype: int64\n",
            "Null Values Count After Handling:\n",
            "custateomer                   0\n",
            "state                         0\n",
            "gender                        0\n",
            "education                     0\n",
            "custateomer_lifetime_value    0\n",
            "income                        0\n",
            "monthly_premium_auto          0\n",
            "number_of_open_complaints     0\n",
            "policy_type                   0\n",
            "vehicle_class                 0\n",
            "total_claim_amount            0\n",
            "dtype: int64\n",
            "Updated Data Types After Converting to Integers:\n",
            "custateomer                   object\n",
            "state                         object\n",
            "gender                        object\n",
            "education                     object\n",
            "custateomer_lifetime_value    object\n",
            "income                         int64\n",
            "monthly_premium_auto           int64\n",
            "number_of_open_complaints      int64\n",
            "policy_type                   object\n",
            "vehicle_class                 object\n",
            "total_claim_amount             int64\n",
            "dtype: object\n"
          ]
        },
        {
          "output_type": "stream",
          "name": "stderr",
          "text": [
            "<ipython-input-4-a23c2c50d04c>:12: FutureWarning: A value is trying to be set on a copy of a DataFrame or Series through chained assignment using an inplace method.\n",
            "The behavior will change in pandas 3.0. This inplace method will never work because the intermediate object on which we are setting values always behaves as a copy.\n",
            "\n",
            "For example, when doing 'df[col].method(value, inplace=True)', try using 'df.method({col: value}, inplace=True)' or df[col] = df[col].method(value) instead, to perform the operation inplace on the original object.\n",
            "\n",
            "\n",
            "  df[column].fillna(df[column].mode()[0], inplace=True)\n",
            "<ipython-input-4-a23c2c50d04c>:14: FutureWarning: A value is trying to be set on a copy of a DataFrame or Series through chained assignment using an inplace method.\n",
            "The behavior will change in pandas 3.0. This inplace method will never work because the intermediate object on which we are setting values always behaves as a copy.\n",
            "\n",
            "For example, when doing 'df[col].method(value, inplace=True)', try using 'df.method({col: value}, inplace=True)' or df[col] = df[col].method(value) instead, to perform the operation inplace on the original object.\n",
            "\n",
            "\n",
            "  df[column].fillna(df[column].mean(), inplace=True)\n"
          ]
        }
      ]
    },
    {
      "cell_type": "code",
      "source": [
        "# Check for duplicates\n",
        "duplicates = df.duplicated().sum()\n",
        "print(f\"Number of duplicate rows: {duplicates}\")\n",
        "\n",
        "# Drop duplicates and reset index\n",
        "df = df.drop_duplicates().reset_index(drop=True)\n",
        "\n",
        "# Verify duplicates are removed\n",
        "duplicates_after = df.duplicated().sum()\n",
        "print(f\"Number of duplicate rows after removal: {duplicates_after}\")\n",
        "\n",
        "# Save the cleaned dataset\n",
        "df.to_csv(\"cleaned_data.csv\", index=False)\n",
        "print(\"Cleaned dataset saved as 'cleaned_data.csv'.\")\n"
      ],
      "metadata": {
        "colab": {
          "base_uri": "https://localhost:8080/"
        },
        "id": "JvGvi8LGWwFq",
        "outputId": "24a82b21-7f78-452b-af3b-e23028499d28"
      },
      "execution_count": 5,
      "outputs": [
        {
          "output_type": "stream",
          "name": "stdout",
          "text": [
            "Number of duplicate rows: 2936\n",
            "Number of duplicate rows after removal: 0\n",
            "Cleaned dataset saved as 'cleaned_data.csv'.\n"
          ]
        }
      ]
    }
  ]
}